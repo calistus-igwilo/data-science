{
 "cells": [
  {
   "cell_type": "markdown",
   "metadata": {},
   "source": [
    "## Intro challenge"
   ]
  },
  {
   "cell_type": "markdown",
   "metadata": {},
   "source": [
    "### Compare Triplets"
   ]
  },
  {
   "cell_type": "markdown",
   "metadata": {},
   "source": [
    "Alice and Bob each created one problem for HackerRank. A reviewer rates the two challenges, awarding points on a scale from $1$ to $100$ for three categories: problem clarity, originality, and difficulty.\n",
    "\n",
    "We define the rating for Alice's challenge to be the triplet $a = (a[0], a[1], a[2])$ and the rating for Bob's challenge to be the triplet $b = (b[0], b[1], b[2])$\n",
    "\n",
    "Your task is to find their comparison points by comparing  with ,  with , and  with .\n",
    "\n",
    "If $a[i] > b[i]$ then Alice is awarded $1$ point.  \n",
    "If $a[i] < b[i]$ then Bob is awarded $1$ point.  \n",
    "If $a[i] = b[i]$ then neither person receives a point."
   ]
  },
  {
   "cell_type": "code",
   "execution_count": 5,
   "metadata": {
    "collapsed": true
   },
   "outputs": [],
   "source": [
    "def compareTriplets(a, b):\n",
    "    alice = 0\n",
    "    bob = 0\n",
    "    for i in range(len(a)):\n",
    "        if a[i] > b[i]:\n",
    "            alice +=1\n",
    "        if a[i] < b[i]:\n",
    "            bob +=1\n",
    "    return alice,bob"
   ]
  },
  {
   "cell_type": "code",
   "execution_count": 6,
   "metadata": {},
   "outputs": [
    {
     "data": {
      "text/plain": [
       "(2, 1)"
      ]
     },
     "execution_count": 6,
     "metadata": {},
     "output_type": "execute_result"
    }
   ],
   "source": [
    "a = [17, 28, 30]\n",
    "b = [99, 16, 18]\n",
    "compareTriplets(a,b)"
   ]
  },
  {
   "cell_type": "markdown",
   "metadata": {},
   "source": [
    "### Sum of elements in an array"
   ]
  },
  {
   "cell_type": "code",
   "execution_count": 25,
   "metadata": {},
   "outputs": [
    {
     "name": "stdout",
     "output_type": "stream",
     "text": [
      "6\n",
      "1000000001 1000000002 1000000003 1000000004 1000000005\n"
     ]
    }
   ],
   "source": [
    "a_count = input()\n",
    "ar = list(map(int, input().rstrip().split()))\n",
    "def aVeryBigSum(a):\n",
    "    sum_ = 0\n",
    "    for i in ar:\n",
    "        sum_ += i\n",
    "    return sum_"
   ]
  },
  {
   "cell_type": "code",
   "execution_count": 26,
   "metadata": {},
   "outputs": [
    {
     "data": {
      "text/plain": [
       "5000000015"
      ]
     },
     "execution_count": 26,
     "metadata": {},
     "output_type": "execute_result"
    }
   ],
   "source": [
    "aVeryBigSum(a)"
   ]
  },
  {
   "cell_type": "markdown",
   "metadata": {},
   "source": [
    "## Warm-up Challenges"
   ]
  },
  {
   "cell_type": "markdown",
   "metadata": {},
   "source": [
    "### Socks Merchant"
   ]
  },
  {
   "cell_type": "markdown",
   "metadata": {},
   "source": [
    "John works at a clothing store. He has a large pile of socks that he must pair by color for sale. Given an array of integers representing the color of each sock, determine how many pairs of socks with matching colors there are $n = 7$\n",
    "\n",
    "For example, there are  socks with colors $a = [1, 2, 1, 2, 1, 3, 2]$ There is one pair of color $1$ and one of color $2$ There are three odd socks left, one of each color. The number of pairs is $2$"
   ]
  },
  {
   "cell_type": "code",
   "execution_count": 48,
   "metadata": {
    "collapsed": true
   },
   "outputs": [],
   "source": [
    "# solution 1\n",
    "from collections import Counter\n",
    "def sockMerchant(n, ar):\n",
    "    count = list(Counter(ar).values()) # # extract the values of the keys, convert to list\n",
    "    pairs = sum([number//2 for number in count]) # divide values by 2 and sum the integer parts\n",
    "    return pairs"
   ]
  },
  {
   "cell_type": "code",
   "execution_count": null,
   "metadata": {
    "collapsed": true
   },
   "outputs": [],
   "source": [
    "# solution 2\n",
    "from collections import Counter\n",
    "def sockMerchant(n, ar):\n",
    "    sum=0\n",
    "    for values in Counter(ar).values():\n",
    "        sum+=values//2\n",
    "    return sum"
   ]
  },
  {
   "cell_type": "markdown",
   "metadata": {
    "collapsed": true
   },
   "source": [
    "### Diagonal Difference"
   ]
  },
  {
   "cell_type": "markdown",
   "metadata": {},
   "source": [
    "Given a square matrix, calculate the absolute difference between the sums of its diagonals.\n",
    "\n",
    "For example, the square matrix $arr$ is given below:\n",
    "\n",
    "\\[\\begin{matrix}\n",
    "1 & 2 & 3 \\\\\n",
    "4 & 5 & 6 \\\\\n",
    "9 & 8 & 9\n",
    "\\end{matrix}\n",
    "\\]\n",
    "\n",
    "The left-to-right diagonal = $1 + 5 + 9 = 15$ The right to left diagonal = $3 + 5 + 7 = 15$ Their absolute difference is $\\mid  17 - 15\\mid = 2$"
   ]
  },
  {
   "cell_type": "code",
   "execution_count": 38,
   "metadata": {},
   "outputs": [
    {
     "name": "stdout",
     "output_type": "stream",
     "text": [
      "3\n",
      "1 2 3\n",
      "4 5 6\n",
      "9 8 9\n"
     ]
    }
   ],
   "source": [
    "import math\n",
    "n = int(input().rstrip())  # number of rows and columns of the square matrix\n",
    "\n",
    "arr = []  # initialize matrix\n",
    "\n",
    "for _ in range(n):\n",
    "    arr.append(list(map(int, input().rstrip().split()))) #enter a row at a time with each element separated by space ex.  1 2 3\n",
    "    \n",
    "def diagonalDifference(arr):\n",
    "    i = left_sum = right_sum = 0\n",
    "    j = n - 1\n",
    "    for _ in range(n):\n",
    "        \n",
    "        left_sum += arr[i][i]\n",
    "        right_sum += arr[j][i]\n",
    "        i += 1\n",
    "        j -= 1\n",
    "    return abs(left_sum - right_sum)\n",
    "\n",
    "    \n",
    "    "
   ]
  },
  {
   "cell_type": "code",
   "execution_count": 39,
   "metadata": {},
   "outputs": [
    {
     "data": {
      "text/plain": [
       "[[1, 2, 3], [4, 5, 6], [9, 8, 9]]"
      ]
     },
     "execution_count": 39,
     "metadata": {},
     "output_type": "execute_result"
    }
   ],
   "source": [
    "arr"
   ]
  },
  {
   "cell_type": "code",
   "execution_count": 43,
   "metadata": {},
   "outputs": [
    {
     "data": {
      "text/plain": [
       "2"
      ]
     },
     "execution_count": 43,
     "metadata": {},
     "output_type": "execute_result"
    }
   ],
   "source": [
    "i = left_sum = right_sum = 0\n",
    "j = n - 1\n",
    "for _ in range(n):\n",
    "        \n",
    "    left_sum += arr[i][i]\n",
    "    right_sum += arr[j][i]\n",
    "    i += 1\n",
    "    j -= 1\n",
    "diff = abs(left_sum - right_sum)\n",
    "diff"
   ]
  },
  {
   "cell_type": "code",
   "execution_count": 1,
   "metadata": {},
   "outputs": [
    {
     "data": {
      "text/plain": [
       "[[1, 2, 3, 4], [5, 6, 7, 8], [9, 0, 1, 2]]"
      ]
     },
     "execution_count": 1,
     "metadata": {},
     "output_type": "execute_result"
    }
   ],
   "source": [
    "# Matrices\n",
    "A = [[1, 2, 3, 4], [5, 6, 7, 8], [9, 0, 1, 2]]\n",
    "A"
   ]
  },
  {
   "cell_type": "code",
   "execution_count": null,
   "metadata": {
    "collapsed": true
   },
   "outputs": [],
   "source": []
  },
  {
   "cell_type": "code",
   "execution_count": 3,
   "metadata": {},
   "outputs": [
    {
     "data": {
      "text/plain": [
       "[1, 2, 3, 4]"
      ]
     },
     "execution_count": 3,
     "metadata": {},
     "output_type": "execute_result"
    }
   ],
   "source": [
    "A[0]"
   ]
  },
  {
   "cell_type": "code",
   "execution_count": 6,
   "metadata": {},
   "outputs": [
    {
     "name": "stdout",
     "output_type": "stream",
     "text": [
      "Enter the number of rows:3\n",
      "Enter the number of columns:2\n",
      "Enter the entries rowwise:\n",
      "1\n",
      "2\n",
      "3\n",
      "4\n",
      "5\n",
      "6\n",
      "1 2 \n",
      "3 4 \n",
      "5 6 \n"
     ]
    }
   ],
   "source": [
    "# A basic code for matrix input from user \n",
    "\n",
    "R = int(input(\"Enter the number of rows:\")) \n",
    "C = int(input(\"Enter the number of columns:\")) \n",
    "\n",
    "# Initialize matrix \n",
    "matrix = [] \n",
    "print(\"Enter the entries rowwise:\") \n",
    "\n",
    "# For user input \n",
    "for i in range(R):\t\t # A for loop for row entries \n",
    "\ta =[] \n",
    "\tfor j in range(C):\t # A for loop for column entries \n",
    "\t\ta.append(int(input())) \n",
    "\tmatrix.append(a) \n",
    "\n",
    "# For printing the matrix \n",
    "for i in range(R): \n",
    "\tfor j in range(C): \n",
    "\t\tprint(matrix[i][j], end = \" \") \n",
    "\tprint() \n"
   ]
  },
  {
   "cell_type": "markdown",
   "metadata": {},
   "source": [
    "### Take input of rows and columns in one line"
   ]
  },
  {
   "cell_type": "code",
   "execution_count": 8,
   "metadata": {},
   "outputs": [
    {
     "name": "stdout",
     "output_type": "stream",
     "text": [
      "1\n",
      "2\n",
      "3\n",
      "4\n",
      "5\n",
      "6\n"
     ]
    }
   ],
   "source": [
    "# one-liner logic to take input for rows and columns \n",
    "mat = [[int(input()) for x in range (C)] for y in range(R)] \n"
   ]
  },
  {
   "cell_type": "code",
   "execution_count": 9,
   "metadata": {},
   "outputs": [
    {
     "data": {
      "text/plain": [
       "[[1, 2], [3, 4], [5, 6]]"
      ]
     },
     "execution_count": 9,
     "metadata": {},
     "output_type": "execute_result"
    }
   ],
   "source": [
    "mat"
   ]
  },
  {
   "cell_type": "markdown",
   "metadata": {},
   "source": [
    "### Using $map()$ function and $numpy$"
   ]
  },
  {
   "cell_type": "code",
   "execution_count": 10,
   "metadata": {},
   "outputs": [
    {
     "name": "stdout",
     "output_type": "stream",
     "text": [
      "Enter the number of rows:3\n",
      "Enter the number of columns:2\n",
      "Enter the entries in a single line (separated by space): \n",
      "1 2 3 4 5 6\n",
      "[[1 2]\n",
      " [3 4]\n",
      " [5 6]]\n"
     ]
    }
   ],
   "source": [
    "import numpy as np \n",
    "\n",
    "R = int(input(\"Enter the number of rows:\")) \n",
    "C = int(input(\"Enter the number of columns:\")) \n",
    "\n",
    "\n",
    "print(\"Enter the entries in a single line (separated by space): \") \n",
    "\n",
    "# User input of entries in a \n",
    "# single line separated by space \n",
    "entries = list(map(int, input().split())) \n",
    "\n",
    "# For printing the matrix \n",
    "matrix = np.array(entries).reshape(R, C) \n",
    "print(matrix) \n"
   ]
  },
  {
   "cell_type": "markdown",
   "metadata": {},
   "source": [
    "### Plus Minus  "
   ]
  },
  {
   "cell_type": "markdown",
   "metadata": {},
   "source": [
    "Given an array of integers, calculate the fractions of its elements that are positive, negative, and are zeros. Print the decimal value of each fraction on a new line  \n",
    "\n",
    "For example, given the array $arr = [1, 1, 0, -1, -1]$ there are $5$ elements, two positive, two negative and one zero. Their ratios would be $\\frac{2}{5} = 0.4000000$, $\\frac{2}{5} = 0.4000000$ and $\\frac{1}{5} = 0.2000000$. It should be printed as"
   ]
  },
  {
   "cell_type": "code",
   "execution_count": 2,
   "metadata": {
    "collapsed": true
   },
   "outputs": [],
   "source": [
    "import math\n",
    "\n",
    "def plusMinus(arr):\n",
    "    pos = []\n",
    "    neg = []\n",
    "    zer = []\n",
    "    l = len(arr)\n",
    "    for number in arr:\n",
    "        if number > 0:\n",
    "            pos.append(1)\n",
    "        elif number < 0:\n",
    "            neg.append(1)\n",
    "        elif number == 0:\n",
    "            zer.append(1)\n",
    "    print('{:10.6f}'.format(sum(pos)/l))\n",
    "    print('{:10.6f}'.format(sum(neg)/l))\n",
    "    print('{:10.6f}'.format(sum(zer)/l))\n"
   ]
  },
  {
   "cell_type": "code",
   "execution_count": 3,
   "metadata": {},
   "outputs": [
    {
     "name": "stdout",
     "output_type": "stream",
     "text": [
      "  0.400000\n",
      "  0.400000\n",
      "  0.200000\n"
     ]
    }
   ],
   "source": [
    "plusMinus([1, 1, 0, -1, -1])"
   ]
  },
  {
   "cell_type": "code",
   "execution_count": null,
   "metadata": {
    "collapsed": true
   },
   "outputs": [],
   "source": []
  },
  {
   "cell_type": "code",
   "execution_count": 6,
   "metadata": {
    "collapsed": true
   },
   "outputs": [],
   "source": [
    "def staircase(n):\n",
    "    for i in range(1, n+1):\n",
    "        print(str('#' * i).rjust(n))\n",
    "    "
   ]
  },
  {
   "cell_type": "code",
   "execution_count": 7,
   "metadata": {},
   "outputs": [
    {
     "name": "stdout",
     "output_type": "stream",
     "text": [
      "     #\n",
      "    ##\n",
      "   ###\n",
      "  ####\n",
      " #####\n",
      "######\n"
     ]
    }
   ],
   "source": [
    "staircase(6)"
   ]
  },
  {
   "cell_type": "markdown",
   "metadata": {},
   "source": [
    "### miniMaxSum"
   ]
  },
  {
   "cell_type": "markdown",
   "metadata": {},
   "source": [
    "Given five positive integers, find the minimum and maximum values that can be calculated by summing exactly four of the five integers. Then print the respective minimum and maximum values as a single line of two space-separated long integers.\n",
    "\n",
    "For example, $arr = [1, 3, 5, 7, 9]$ . Our minimum sum is $1 + 3 + 5 + 7 + 9 = 16$ and our maximum sum is $3 + 5 + 7 + 9 = 24$.  \n",
    "We would print:  \n",
    "<code>16 24</code>"
   ]
  },
  {
   "cell_type": "code",
   "execution_count": 58,
   "metadata": {
    "collapsed": true
   },
   "outputs": [],
   "source": [
    "def miniMaxSum(arr):\n",
    "    arr_sort = sorted(arr)\n",
    "    min_ = sum(arr_sort[:-1])\n",
    "    max_ = sum(arr_sort[1:])\n",
    "    print(min_, max_)"
   ]
  },
  {
   "cell_type": "code",
   "execution_count": 134,
   "metadata": {},
   "outputs": [
    {
     "name": "stdout",
     "output_type": "stream",
     "text": [
      "16 24\n"
     ]
    }
   ],
   "source": [
    "miniMaxSum([1, 3, 5, 7, 9])"
   ]
  },
  {
   "cell_type": "markdown",
   "metadata": {},
   "source": [
    "### Birthday Candle light "
   ]
  },
  {
   "cell_type": "markdown",
   "metadata": {},
   "source": [
    "You are in charge of the cake for your niece's birthday and have decided the cake will have one candle for each year of her total age. When she blows out the candles, she’ll only be able to blow out the tallest ones. Your task is to find out how many candles she can successfully blow out.\n",
    "\n",
    "For example, if your niece is turning $4$ years old, and the cake will have  candles of height $4$, $4$, $1$, $3$, she will be able to blow out $2$ candles successfully, since the tallest candles are of height $4$ and there are $2$ such candles."
   ]
  },
  {
   "cell_type": "code",
   "execution_count": 123,
   "metadata": {
    "collapsed": true
   },
   "outputs": [],
   "source": [
    "from collections import Counter, OrderedDict"
   ]
  },
  {
   "cell_type": "code",
   "execution_count": 132,
   "metadata": {
    "collapsed": true
   },
   "outputs": [],
   "source": [
    "def birthdayCakeCandles(ar):\n",
    "    c = Counter(ar)\n",
    "    for key, value in c.items():\n",
    "        if key == max(c.keys()):\n",
    "            return value"
   ]
  },
  {
   "cell_type": "code",
   "execution_count": 133,
   "metadata": {},
   "outputs": [
    {
     "data": {
      "text/plain": [
       "2"
      ]
     },
     "execution_count": 133,
     "metadata": {},
     "output_type": "execute_result"
    }
   ],
   "source": [
    "birthdayCakeCandles([3, 2, 1, 3])"
   ]
  },
  {
   "cell_type": "markdown",
   "metadata": {},
   "source": [
    "### Time Conversion"
   ]
  },
  {
   "cell_type": "markdown",
   "metadata": {},
   "source": [
    "Given a time in $12$-hour AM/PM format, convert it to military (24-hour) time.\n",
    "\n",
    "Note: Midnight is 12:00:00AM on a 12-hour clock, and 00:00:00 on a 24-hour clock. Noon is 12:00:00PM on a 12-hour clock, and 12:00:00 on a 24-hour clock."
   ]
  },
  {
   "cell_type": "code",
   "execution_count": 154,
   "metadata": {},
   "outputs": [],
   "source": [
    "def timeConversion(time_):\n",
    "#    time_ = input().strip()\n",
    "    h, m, s = map(int, time_[:-2].split(':'))\n",
    "    if \"PM\" in time_.upper():\n",
    "        h = (h % 12) + 12 # take care of cases where h is within 12pm hour\n",
    "    if \"AM\" in time_.upper() and h == 12:\n",
    "        h = 0\n",
    "    return(\"{:02d}:{:02d}:{:02d}\".format(h, m, s))"
   ]
  },
  {
   "cell_type": "code",
   "execution_count": 145,
   "metadata": {},
   "outputs": [
    {
     "data": {
      "text/plain": [
       "0"
      ]
     },
     "execution_count": 145,
     "metadata": {},
     "output_type": "execute_result"
    }
   ],
   "source": [
    "12 % 12"
   ]
  },
  {
   "cell_type": "code",
   "execution_count": 158,
   "metadata": {},
   "outputs": [
    {
     "data": {
      "text/plain": [
       "'00:20:03'"
      ]
     },
     "execution_count": 158,
     "metadata": {},
     "output_type": "execute_result"
    }
   ],
   "source": [
    "timeConversion('12:20:3am')"
   ]
  },
  {
   "cell_type": "code",
   "execution_count": 159,
   "metadata": {},
   "outputs": [
    {
     "data": {
      "text/plain": [
       "'12:03:40'"
      ]
     },
     "execution_count": 159,
     "metadata": {},
     "output_type": "execute_result"
    }
   ],
   "source": [
    "timeConversion('12:3:40pm')"
   ]
  },
  {
   "cell_type": "code",
   "execution_count": null,
   "metadata": {
    "collapsed": true
   },
   "outputs": [],
   "source": []
  }
 ],
 "metadata": {
  "kernelspec": {
   "display_name": "Python 3",
   "language": "python",
   "name": "python3"
  },
  "language_info": {
   "codemirror_mode": {
    "name": "ipython",
    "version": 3
   },
   "file_extension": ".py",
   "mimetype": "text/x-python",
   "name": "python",
   "nbconvert_exporter": "python",
   "pygments_lexer": "ipython3",
   "version": "3.6.3"
  }
 },
 "nbformat": 4,
 "nbformat_minor": 2
}
