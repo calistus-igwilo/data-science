{
 "cells": [
  {
   "cell_type": "markdown",
   "metadata": {},
   "source": [
    "# List data structure"
   ]
  },
  {
   "cell_type": "markdown",
   "metadata": {},
   "source": [
    "Two common operations in lists are:\n",
    "1. Indexing\n",
    "2. Assigning to an index position <br>\n",
    "\n",
    "Both take the same amnount of time no matter how large the list is. Hence they are accomplished in $constant$ time i.e $O(1)$\n"
   ]
  },
  {
   "cell_type": "markdown",
   "metadata": {},
   "source": [
    "A common programming task is to grow a list. 2 methods of accomplishing this are:\n",
    "    1. append method $O(1)$\n",
    "    2. concatenate operator  $O(k)$ where k is the size of the list being concatenated"
   ]
  },
  {
   "cell_type": "code",
   "execution_count": 2,
   "metadata": {
    "collapsed": true
   },
   "outputs": [],
   "source": [
    "def test1():\n",
    "    l = []\n",
    "    for i in range(1000):\n",
    "        l = l + [i]\n",
    "\n",
    "def test2():\n",
    "    l = []\n",
    "    for i in range(1000):\n",
    "        l.append(i)\n",
    "\n",
    "def test3():\n",
    "    l = [i for i in range(1000)]\n",
    "    \n",
    "def test4():\n",
    "    l = list(range(1000))\n",
    "    \n",
    "    "
   ]
  },
  {
   "cell_type": "markdown",
   "metadata": {},
   "source": [
    "To capture the time it takes for each function to execute, the ${\\color{red}{timeit}}$ module can be used"
   ]
  },
  {
   "cell_type": "code",
   "execution_count": 4,
   "metadata": {},
   "outputs": [
    {
     "name": "stdout",
     "output_type": "stream",
     "text": [
      "concat  4.480727128821476 milliseconds\n",
      "append  0.15214556041473948 milliseconds\n",
      "comprehension  0.07159093194938926 milliseconds\n",
      "list range  0.032371937369480186 milliseconds\n"
     ]
    }
   ],
   "source": [
    "# Import the timeit module\n",
    "import timeit\n",
    "\n",
    "# Import the Timer class defined in the module\n",
    "from timeit import Timer\n",
    "# If the above line is excluded, you need to replace Timer with timeit.Timer when defining a Timer object\n",
    "\n",
    "t1 = Timer(\"test1()\", \"from __main__ import test1\")\n",
    "print(\"concat \",t1.timeit(number=1000), \"milliseconds\")\n",
    "t2 = Timer(\"test2()\", \"from __main__ import test2\")\n",
    "print(\"append \",t2.timeit(number=1000), \"milliseconds\")\n",
    "t3 = Timer(\"test3()\", \"from __main__ import test3\")\n",
    "print(\"comprehension \",t3.timeit(number=1000), \"milliseconds\")\n",
    "t4 = Timer(\"test4()\", \"from __main__ import test4\")\n",
    "print(\"list range \",t4.timeit(number=1000), \"milliseconds\")"
   ]
  },
  {
   "cell_type": "markdown",
   "metadata": {},
   "source": [
    "${\\color{red}{timeit}}$ for when **pop** is called at the end of list $pop()$ and when it is called at the beginning of list $pop(0)$"
   ]
  },
  {
   "cell_type": "code",
   "execution_count": 5,
   "metadata": {},
   "outputs": [
    {
     "name": "stdout",
     "output_type": "stream",
     "text": [
      "pop zero  4.060419460765843 milliseconds\n",
      "pop end  0.0002077229419228388 milliseconds\n"
     ]
    }
   ],
   "source": [
    "import timeit\n",
    "from timeit import Timer\n",
    "\n",
    "pop_zero = Timer(\"x.pop(0)\",\n",
    "\"from __main__ import x\")\n",
    "pop_end = Timer(\"x.pop()\",\n",
    "\"from __main__ import x\")\n",
    "\n",
    "x = list(range(2000000))\n",
    "\n",
    "print(\"pop zero \", pop_zero.timeit(number=1000), \"milliseconds\")\n",
    "print(\"pop end \", pop_end.timeit(number=1000), \"milliseconds\")"
   ]
  },
  {
   "cell_type": "markdown",
   "metadata": {},
   "source": [
    "Results above show that ${\\color{red}{pop(0)}}$ is slower than ${\\color{red}{pop()}}$"
   ]
  },
  {
   "cell_type": "code",
   "execution_count": null,
   "metadata": {
    "collapsed": true
   },
   "outputs": [],
   "source": [
    "import timeit\n",
    "from timeit import Timer\n",
    "\n",
    "pop_zero = Timer(\"x.pop(0)\", \"from __main__ import x\")\n",
    "pop_end = Timer(\"x.pop()\", \"from __main__ import x\")\n",
    "print(\"pop(0) pop()\")\n",
    "for i in range(1000000,100000001,1000000):\n",
    "    x = list(range(i))\n",
    "    pt = pop_end.timeit(number=1000)\n",
    "    x = list(range(i))\n",
    "    pz = pop_zero.timeit(number=1000)\n",
    "print(\"%15.5f, %15.5f\" %(pz,pt))"
   ]
  },
  {
   "cell_type": "code",
   "execution_count": null,
   "metadata": {
    "collapsed": true
   },
   "outputs": [],
   "source": []
  }
 ],
 "metadata": {
  "kernelspec": {
   "display_name": "Python 3",
   "language": "python",
   "name": "python3"
  },
  "language_info": {
   "codemirror_mode": {
    "name": "ipython",
    "version": 3
   },
   "file_extension": ".py",
   "mimetype": "text/x-python",
   "name": "python",
   "nbconvert_exporter": "python",
   "pygments_lexer": "ipython3",
   "version": "3.7.6"
  }
 },
 "nbformat": 4,
 "nbformat_minor": 2
}
